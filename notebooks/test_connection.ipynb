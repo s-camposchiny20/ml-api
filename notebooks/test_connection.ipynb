{
 "cells": [
  {
   "cell_type": "code",
   "execution_count": 1,
   "id": "a0c7f881",
   "metadata": {},
   "outputs": [],
   "source": [
    "import requests"
   ]
  },
  {
   "cell_type": "code",
   "execution_count": 2,
   "id": "e0a1b388",
   "metadata": {},
   "outputs": [],
   "source": [
    "to_predict_dict = {'satisfaction_level': 0.38,\n",
    "                   'last_evaluation': 0.53,\n",
    "                   'number_project': 2,\n",
    "                   'average_montly_hours': 157,\n",
    "                   'time_spend_company': 3,\n",
    "                   'Work_accident': 0,\n",
    "                   'promotion_last_5years': 0,\n",
    "                   'sales': 'support',\n",
    "                   'salary': 'low'}\n",
    "\n",
    "url = 'http://localhost:8000/predict'"
   ]
  },
  {
   "cell_type": "code",
   "execution_count": 3,
   "id": "34fd6d9b",
   "metadata": {},
   "outputs": [
    {
     "data": {
      "text/plain": [
       "{'prediction': 1}"
      ]
     },
     "execution_count": 3,
     "metadata": {},
     "output_type": "execute_result"
    }
   ],
   "source": [
    "r = requests.post(url, json=to_predict_dict) \n",
    "\n",
    "r.json()"
   ]
  }
 ],
 "metadata": {
  "kernelspec": {
   "display_name": "Python 3",
   "language": "python",
   "name": "python3"
  },
  "language_info": {
   "codemirror_mode": {
    "name": "ipython",
    "version": 3
   },
   "file_extension": ".py",
   "mimetype": "text/x-python",
   "name": "python",
   "nbconvert_exporter": "python",
   "pygments_lexer": "ipython3",
   "version": "3.8.8"
  }
 },
 "nbformat": 4,
 "nbformat_minor": 5
}
